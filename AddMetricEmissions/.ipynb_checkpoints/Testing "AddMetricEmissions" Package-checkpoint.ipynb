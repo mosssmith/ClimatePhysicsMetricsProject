{
 "cells": [
  {
   "cell_type": "code",
   "execution_count": null,
   "metadata": {},
   "outputs": [],
   "source": []
  },
  {
   "cell_type": "code",
   "execution_count": 5,
   "metadata": {},
   "outputs": [],
   "source": [
    "from math import *\n",
    "from sympy.physics.vector import ReferenceFrame\n",
    "from sympy.physics.vector import gradient\n",
    "from mpl_toolkits.mplot3d import axes3d\n",
    "import numpy as np\n",
    "import mpmath as mp\n",
    "mp.dps = 15; mp.pretty = True\n",
    "import sympy as sp\n",
    "import pandas as pd\n",
    "from pandas import ExcelWriter\n",
    "import matplotlib\n",
    "import matplotlib.pyplot as plt\n",
    "from brokenaxes import brokenaxes"
   ]
  },
  {
   "cell_type": "code",
   "execution_count": 3,
   "metadata": {},
   "outputs": [],
   "source": [
    "from functions import *"
   ]
  },
  {
   "cell_type": "code",
   "execution_count": null,
   "metadata": {},
   "outputs": [
    {
     "name": "stdout",
     "output_type": "stream",
     "text": [
      "   Unnamed: 0  Year  SLCP     CO2fe\n",
      "0           0     0   1.0  1.000000\n",
      "1           1     1   0.0 -0.038054\n",
      "2           2     2   0.0 -0.041911\n",
      "3           3     3   0.0 -0.044203\n",
      "4           4     4   0.0 -0.045269\n"
     ]
    },
    {
     "name": "stderr",
     "output_type": "stream",
     "text": [
      "/Users/student/anaconda3/lib/python3.7/site-packages/pandas/core/indexing.py:190: SettingWithCopyWarning: \n",
      "A value is trying to be set on a copy of a slice from a DataFrame\n",
      "\n",
      "See the caveats in the documentation: http://pandas.pydata.org/pandas-docs/stable/indexing.html#indexing-view-versus-copy\n",
      "  self._setitem_with_indexer(indexer, value)\n"
     ]
    }
   ],
   "source": [
    "# Calculate Metric Emissions\n",
    "VectorMetric = pd.read_csv(\"CO2FEVectorMetric/CO2FEVectorMetricFactors.csv\")\n",
    "# ReducedCO2feVectorMetric = CO2feVectorMetric[['YearInverted','CO2fe']]\n",
    "print(VectorMetric.head())\n",
    "\n",
    "TimePeriod = 200  # Years\n",
    "SLCPEmissions = np.ones(TimePeriod).tolist()\n",
    "SLCPEmissions[0:49] = np.zeros(50).tolist()\n",
    "Years = np.arange(-50, TimePeriod-49).tolist()\n",
    "\n",
    "SLCPTimeSeries = pd.DataFrame(data={'Year': Years, 'SLCP Emissions': SLCPEmissions})\n",
    "\n",
    "\n",
    "# MetricTypes = []\n",
    "\n",
    "StepTestEmissionsOutput = addMetricEmissions(SLCPTimeSeries, VectorMetric)\n",
    "\n",
    "print(StepTestEmissionsOutput.tail())"
   ]
  },
  {
   "cell_type": "code",
   "execution_count": null,
   "metadata": {},
   "outputs": [],
   "source": []
  },
  {
   "cell_type": "code",
   "execution_count": null,
   "metadata": {},
   "outputs": [],
   "source": []
  }
 ],
 "metadata": {
  "kernelspec": {
   "display_name": "Python 3",
   "language": "python",
   "name": "python3"
  },
  "toc": {
   "base_numbering": 1,
   "nav_menu": {},
   "number_sections": true,
   "sideBar": true,
   "skip_h1_title": false,
   "title_cell": "Table of Contents",
   "title_sidebar": "Contents",
   "toc_cell": false,
   "toc_position": {},
   "toc_section_display": true,
   "toc_window_display": false
  }
 },
 "nbformat": 4,
 "nbformat_minor": 2
}
