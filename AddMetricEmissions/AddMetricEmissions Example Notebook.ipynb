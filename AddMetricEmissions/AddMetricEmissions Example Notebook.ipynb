{
 "cells": [
  {
   "cell_type": "code",
   "execution_count": 1,
   "metadata": {},
   "outputs": [
    {
     "name": "stderr",
     "output_type": "stream",
     "text": [
      "/Users/student/anaconda3/lib/python3.7/site-packages/tqdm/autonotebook/__init__.py:14: TqdmExperimentalWarning: Using `tqdm.autonotebook.tqdm` in notebook mode. Use `tqdm.tqdm` instead to force console mode (e.g. in jupyter console)\n",
      "  \" (e.g. in jupyter console)\", TqdmExperimentalWarning)\n"
     ]
    }
   ],
   "source": [
    "from math import *\n",
    "import numpy as np\n",
    "import pandas as pd\n",
    "import matplotlib\n",
    "import matplotlib.pyplot as plt\n",
    "\n",
    "from CH4eMetricEmissions import functions as CH4efunctions\n",
    "from CO2eMetricEmissions import functions as CO2efunctions\n",
    "from CO2eMetricEmissions import functionsMatrix as CO2efunctionsMatrix"
   ]
  },
  {
   "cell_type": "markdown",
   "metadata": {},
   "source": [
    "# CO2 Equivalent Testing"
   ]
  },
  {
   "cell_type": "markdown",
   "metadata": {},
   "source": [
    "## Testing the basic Metric Emissions tool\n",
    "\n",
    "This tool takes in a dataframe consisting of a \"Year\" column and an \"SLCP Emissions\" column and computes a collection of CO2 equivalent emissions pertaining to different metrics."
   ]
  },
  {
   "cell_type": "code",
   "execution_count": 2,
   "metadata": {},
   "outputs": [
    {
     "data": {
      "text/html": [
       "<div>\n",
       "<style scoped>\n",
       "    .dataframe tbody tr th:only-of-type {\n",
       "        vertical-align: middle;\n",
       "    }\n",
       "\n",
       "    .dataframe tbody tr th {\n",
       "        vertical-align: top;\n",
       "    }\n",
       "\n",
       "    .dataframe thead th {\n",
       "        text-align: right;\n",
       "    }\n",
       "</style>\n",
       "<table border=\"1\" class=\"dataframe\">\n",
       "  <thead>\n",
       "    <tr style=\"text-align: right;\">\n",
       "      <th></th>\n",
       "      <th>Year</th>\n",
       "      <th>SLCP Emissions</th>\n",
       "    </tr>\n",
       "  </thead>\n",
       "  <tbody>\n",
       "    <tr>\n",
       "      <th>0</th>\n",
       "      <td>1850</td>\n",
       "      <td>0.0</td>\n",
       "    </tr>\n",
       "    <tr>\n",
       "      <th>1</th>\n",
       "      <td>1851</td>\n",
       "      <td>0.0</td>\n",
       "    </tr>\n",
       "    <tr>\n",
       "      <th>2</th>\n",
       "      <td>1852</td>\n",
       "      <td>0.0</td>\n",
       "    </tr>\n",
       "    <tr>\n",
       "      <th>3</th>\n",
       "      <td>1853</td>\n",
       "      <td>0.0</td>\n",
       "    </tr>\n",
       "    <tr>\n",
       "      <th>4</th>\n",
       "      <td>1854</td>\n",
       "      <td>0.0</td>\n",
       "    </tr>\n",
       "  </tbody>\n",
       "</table>\n",
       "</div>"
      ],
      "text/plain": [
       "   Year  SLCP Emissions\n",
       "0  1850             0.0\n",
       "1  1851             0.0\n",
       "2  1852             0.0\n",
       "3  1853             0.0\n",
       "4  1854             0.0"
      ]
     },
     "execution_count": 2,
     "metadata": {},
     "output_type": "execute_result"
    }
   ],
   "source": [
    "# Make step change emissions series with emissions of SLCP (CH4) rising from 0 to 1 at the year 2000\n",
    "\n",
    "TimePeriod = 349  # Years\n",
    "SLCPEmissions = np.ones(TimePeriod).tolist()\n",
    "SLCPEmissions[0:149] = np.zeros(150).tolist()\n",
    "Years = np.arange(1850, 2200).tolist()\n",
    "\n",
    "SLCPTimeSeries = pd.DataFrame(data={'Year': Years, 'SLCP Emissions': SLCPEmissions})\n",
    "SLCPTimeSeries.head()"
   ]
  },
  {
   "cell_type": "code",
   "execution_count": 3,
   "metadata": {},
   "outputs": [
    {
     "data": {
      "text/html": [
       "<div>\n",
       "<style scoped>\n",
       "    .dataframe tbody tr th:only-of-type {\n",
       "        vertical-align: middle;\n",
       "    }\n",
       "\n",
       "    .dataframe tbody tr th {\n",
       "        vertical-align: top;\n",
       "    }\n",
       "\n",
       "    .dataframe thead th {\n",
       "        text-align: right;\n",
       "    }\n",
       "</style>\n",
       "<table border=\"1\" class=\"dataframe\">\n",
       "  <thead>\n",
       "    <tr style=\"text-align: right;\">\n",
       "      <th></th>\n",
       "      <th>Year</th>\n",
       "      <th>SLCP Emissions</th>\n",
       "      <th>CFE</th>\n",
       "      <th>GWP*</th>\n",
       "      <th>CGWP</th>\n",
       "      <th>CGTP</th>\n",
       "      <th>GWP100</th>\n",
       "      <th>GWP20</th>\n",
       "      <th>GTP100</th>\n",
       "      <th>GTP20</th>\n",
       "    </tr>\n",
       "  </thead>\n",
       "  <tbody>\n",
       "    <tr>\n",
       "      <th>345</th>\n",
       "      <td>2195</td>\n",
       "      <td>1.0</td>\n",
       "      <td>4.704215</td>\n",
       "      <td>7.0</td>\n",
       "      <td>0.0</td>\n",
       "      <td>0.0</td>\n",
       "      <td>28.0</td>\n",
       "      <td>84.0</td>\n",
       "      <td>4.0</td>\n",
       "      <td>67.0</td>\n",
       "    </tr>\n",
       "    <tr>\n",
       "      <th>346</th>\n",
       "      <td>2196</td>\n",
       "      <td>1.0</td>\n",
       "      <td>4.683492</td>\n",
       "      <td>7.0</td>\n",
       "      <td>0.0</td>\n",
       "      <td>0.0</td>\n",
       "      <td>28.0</td>\n",
       "      <td>84.0</td>\n",
       "      <td>4.0</td>\n",
       "      <td>67.0</td>\n",
       "    </tr>\n",
       "    <tr>\n",
       "      <th>347</th>\n",
       "      <td>2197</td>\n",
       "      <td>1.0</td>\n",
       "      <td>4.663046</td>\n",
       "      <td>7.0</td>\n",
       "      <td>0.0</td>\n",
       "      <td>0.0</td>\n",
       "      <td>28.0</td>\n",
       "      <td>84.0</td>\n",
       "      <td>4.0</td>\n",
       "      <td>67.0</td>\n",
       "    </tr>\n",
       "    <tr>\n",
       "      <th>348</th>\n",
       "      <td>2198</td>\n",
       "      <td>1.0</td>\n",
       "      <td>4.642871</td>\n",
       "      <td>7.0</td>\n",
       "      <td>0.0</td>\n",
       "      <td>0.0</td>\n",
       "      <td>28.0</td>\n",
       "      <td>84.0</td>\n",
       "      <td>4.0</td>\n",
       "      <td>67.0</td>\n",
       "    </tr>\n",
       "    <tr>\n",
       "      <th>349</th>\n",
       "      <td>2199</td>\n",
       "      <td>1.0</td>\n",
       "      <td>4.622964</td>\n",
       "      <td>7.0</td>\n",
       "      <td>0.0</td>\n",
       "      <td>0.0</td>\n",
       "      <td>28.0</td>\n",
       "      <td>84.0</td>\n",
       "      <td>4.0</td>\n",
       "      <td>67.0</td>\n",
       "    </tr>\n",
       "  </tbody>\n",
       "</table>\n",
       "</div>"
      ],
      "text/plain": [
       "     Year  SLCP Emissions       CFE  GWP*  CGWP  CGTP  GWP100  GWP20  GTP100  \\\n",
       "345  2195             1.0  4.704215   7.0   0.0   0.0    28.0   84.0     4.0   \n",
       "346  2196             1.0  4.683492   7.0   0.0   0.0    28.0   84.0     4.0   \n",
       "347  2197             1.0  4.663046   7.0   0.0   0.0    28.0   84.0     4.0   \n",
       "348  2198             1.0  4.642871   7.0   0.0   0.0    28.0   84.0     4.0   \n",
       "349  2199             1.0  4.622964   7.0   0.0   0.0    28.0   84.0     4.0   \n",
       "\n",
       "     GTP20  \n",
       "345   67.0  \n",
       "346   67.0  \n",
       "347   67.0  \n",
       "348   67.0  \n",
       "349   67.0  "
      ]
     },
     "execution_count": 3,
     "metadata": {},
     "output_type": "execute_result"
    }
   ],
   "source": [
    "# AddMetricEmissions used on the SLCPTimeSeries \n",
    "\n",
    "CH4StepTestEmissionsOutput = CO2efunctionsMatrix.addCH4MetricEmsColumns(SLCPTimeSeries)\n",
    "CH4StepTestEmissionsOutput.tail()\n"
   ]
  },
  {
   "cell_type": "code",
   "execution_count": 4,
   "metadata": {},
   "outputs": [
    {
     "data": {
      "image/png": "[encoded data removed]",
      "text/plain": [
       "<Figure size 432x288 with 1 Axes>"
      ]
     },
     "metadata": {
      "needs_background": "light"
     },
     "output_type": "display_data"
    }
   ],
   "source": [
    "t = CH4StepTestEmissionsOutput['Year']\n",
    "s = CH4StepTestEmissionsOutput['CFE']\n",
    "v = CH4StepTestEmissionsOutput['GWP*']\n",
    "\n",
    "fig, (ax) = plt.subplots()\n",
    "ax.plot(t, s, color = 'black',linewidth = 2,label='CFE')\n",
    "ax.plot(t, v, color = 'orange',linewidth = 2,label='GWP*')\n",
    "ax.tick_params(axis='both',direction='in',length=8,right=True,top=True)\n",
    "plt.legend()\n",
    "ax.axhline(linewidth = 0.5, color='gray')\n",
    "\n",
    "ax.set(xlabel='Year', ylabel='CO2-e Emissions',\n",
    "       title='CO2e emissions for Step CH4 emission')\n",
    "plt.show()"
   ]
  },
  {
   "cell_type": "markdown",
   "metadata": {},
   "source": [
    "## Testing the GIR Input Style metric tool\n",
    "\n",
    "This version takes in a range of scenarios and gases using the same format used in GIR. For each metric \"method\" specified a new \"scenario\" will be added to the returned dataframe for each original \"scenario\" in the GIR input. This allows us to quickly go from a multi-gas set of input emissions to a broad range of equivalents, and model their temperature impacts, without the need for reformatting.\n",
    "\n",
    "Methods can include \"CFE\", \"GWP*\", \"CGWP\", \"CGTP\", \"GWP100\", \"GWP20\", \"GTP100\", \"GTP20\""
   ]
  },
  {
   "cell_type": "code",
   "execution_count": 5,
   "metadata": {},
   "outputs": [
    {
     "data": {
      "text/html": [
       "<div>\n",
       "<style scoped>\n",
       "    .dataframe tbody tr th:only-of-type {\n",
       "        vertical-align: middle;\n",
       "    }\n",
       "\n",
       "    .dataframe tbody tr th {\n",
       "        vertical-align: top;\n",
       "    }\n",
       "\n",
       "    .dataframe thead tr th {\n",
       "        text-align: left;\n",
       "    }\n",
       "\n",
       "    .dataframe thead tr:last-of-type th {\n",
       "        text-align: right;\n",
       "    }\n",
       "</style>\n",
       "<table border=\"1\" class=\"dataframe\">\n",
       "  <thead>\n",
       "    <tr>\n",
       "      <th>Scenario</th>\n",
       "      <th colspan=\"3\" halign=\"left\">Pulse</th>\n",
       "      <th colspan=\"3\" halign=\"left\">Step</th>\n",
       "    </tr>\n",
       "    <tr>\n",
       "      <th>Gas</th>\n",
       "      <th>CO2</th>\n",
       "      <th>CH4</th>\n",
       "      <th>N2O</th>\n",
       "      <th>CO2</th>\n",
       "      <th>CH4</th>\n",
       "      <th>N2O</th>\n",
       "    </tr>\n",
       "    <tr>\n",
       "      <th>Year</th>\n",
       "      <th></th>\n",
       "      <th></th>\n",
       "      <th></th>\n",
       "      <th></th>\n",
       "      <th></th>\n",
       "      <th></th>\n",
       "    </tr>\n",
       "  </thead>\n",
       "  <tbody>\n",
       "    <tr>\n",
       "      <th>1850.0</th>\n",
       "      <td>0</td>\n",
       "      <td>0.0</td>\n",
       "      <td>0</td>\n",
       "      <td>0</td>\n",
       "      <td>0.0</td>\n",
       "      <td>0</td>\n",
       "    </tr>\n",
       "    <tr>\n",
       "      <th>1851.0</th>\n",
       "      <td>0</td>\n",
       "      <td>0.0</td>\n",
       "      <td>0</td>\n",
       "      <td>0</td>\n",
       "      <td>0.0</td>\n",
       "      <td>0</td>\n",
       "    </tr>\n",
       "    <tr>\n",
       "      <th>1852.0</th>\n",
       "      <td>0</td>\n",
       "      <td>0.0</td>\n",
       "      <td>0</td>\n",
       "      <td>0</td>\n",
       "      <td>0.0</td>\n",
       "      <td>0</td>\n",
       "    </tr>\n",
       "    <tr>\n",
       "      <th>1853.0</th>\n",
       "      <td>0</td>\n",
       "      <td>0.0</td>\n",
       "      <td>0</td>\n",
       "      <td>0</td>\n",
       "      <td>0.0</td>\n",
       "      <td>0</td>\n",
       "    </tr>\n",
       "    <tr>\n",
       "      <th>1854.0</th>\n",
       "      <td>0</td>\n",
       "      <td>0.0</td>\n",
       "      <td>0</td>\n",
       "      <td>0</td>\n",
       "      <td>0.0</td>\n",
       "      <td>0</td>\n",
       "    </tr>\n",
       "  </tbody>\n",
       "</table>\n",
       "</div>"
      ],
      "text/plain": [
       "Scenario Pulse          Step         \n",
       "Gas        CO2  CH4 N2O  CO2  CH4 N2O\n",
       "Year                                 \n",
       "1850.0       0  0.0   0    0  0.0   0\n",
       "1851.0       0  0.0   0    0  0.0   0\n",
       "1852.0       0  0.0   0    0  0.0   0\n",
       "1853.0       0  0.0   0    0  0.0   0\n",
       "1854.0       0  0.0   0    0  0.0   0"
      ]
     },
     "execution_count": 5,
     "metadata": {},
     "output_type": "execute_result"
    }
   ],
   "source": [
    "# GIRTestScenarioNames = ['Pulse','Step']\n",
    "\n",
    "start_year = 1850\n",
    "end_year = 2200\n",
    "timestep = 1\n",
    "scen_names=['Pulse','Step']\n",
    "gases_in = ['CO2','CH4','N2O']\n",
    "\n",
    "CH4GIREmissions = pd.DataFrame(index=np.arange(start_year,end_year+1,timestep)+(timestep!=1)*timestep/2,columns=pd.MultiIndex.from_product([scen_names,gases_in],names=['Scenario','Gas'])).fillna(0).apply(pd.to_numeric)\n",
    "CH4GIREmissions.index.rename('Year',inplace=True)\n",
    "\n",
    "TimePeriod = 351  # Years\n",
    "Years = np.arange(1850, 2200).tolist()\n",
    "\n",
    "# Pulse Emissions\n",
    "PulseSLCPEmissions = np.zeros(TimePeriod).tolist()\n",
    "PulseSLCPEmissions[150] = 1\n",
    "\n",
    "# Step Emissions\n",
    "StepSLCPEmissions = np.ones(TimePeriod).tolist()\n",
    "StepSLCPEmissions[0:150] = np.zeros(150).tolist()\n",
    "\n",
    "# Non-Metric Gas Emissions\n",
    "CH4GIREmissions['Pulse','CH4'] = PulseSLCPEmissions\n",
    "CH4GIREmissions['Step','CH4'] = StepSLCPEmissions\n",
    "\n",
    "CH4GIREmissions.head()"
   ]
  },
  {
   "cell_type": "code",
   "execution_count": 6,
   "metadata": {},
   "outputs": [
    {
     "data": {
      "application/vnd.jupyter.widget-view+json": {
       "model_id": "4563891c31be42908e7585a75e6aeb00",
       "version_major": 2,
       "version_minor": 0
      },
      "text/plain": [
       "HBox(children=(IntProgress(value=0, description='Scenarios Completed', max=2, style=ProgressStyle(description_…"
      ]
     },
     "metadata": {},
     "output_type": "display_data"
    },
    {
     "name": "stdout",
     "output_type": "stream",
     "text": [
      "\n"
     ]
    }
   ],
   "source": [
    "Methods = [\"CFE\", \"GWP*\"]\n",
    "\n",
    "CO2eGIR = CO2efunctionsMatrix.addCO2eMetricEmissions(CH4GIREmissions, Methods)"
   ]
  },
  {
   "cell_type": "code",
   "execution_count": 7,
   "metadata": {},
   "outputs": [
    {
     "data": {
      "text/html": [
       "<div>\n",
       "<style scoped>\n",
       "    .dataframe tbody tr th:only-of-type {\n",
       "        vertical-align: middle;\n",
       "    }\n",
       "\n",
       "    .dataframe tbody tr th {\n",
       "        vertical-align: top;\n",
       "    }\n",
       "\n",
       "    .dataframe thead tr th {\n",
       "        text-align: left;\n",
       "    }\n",
       "\n",
       "    .dataframe thead tr:last-of-type th {\n",
       "        text-align: right;\n",
       "    }\n",
       "</style>\n",
       "<table border=\"1\" class=\"dataframe\">\n",
       "  <thead>\n",
       "    <tr>\n",
       "      <th>Scenario</th>\n",
       "      <th colspan=\"3\" halign=\"left\">Pulse</th>\n",
       "      <th colspan=\"3\" halign=\"left\">Step</th>\n",
       "      <th colspan=\"3\" halign=\"left\">Pulse - CFE</th>\n",
       "      <th colspan=\"3\" halign=\"left\">Pulse - GWP*</th>\n",
       "      <th colspan=\"3\" halign=\"left\">Step - CFE</th>\n",
       "      <th colspan=\"3\" halign=\"left\">Step - GWP*</th>\n",
       "    </tr>\n",
       "    <tr>\n",
       "      <th>Gas</th>\n",
       "      <th>CO2</th>\n",
       "      <th>CH4</th>\n",
       "      <th>N2O</th>\n",
       "      <th>CO2</th>\n",
       "      <th>CH4</th>\n",
       "      <th>N2O</th>\n",
       "      <th>CO2</th>\n",
       "      <th>CH4</th>\n",
       "      <th>N2O</th>\n",
       "      <th>CO2</th>\n",
       "      <th>CH4</th>\n",
       "      <th>N2O</th>\n",
       "      <th>CO2</th>\n",
       "      <th>CH4</th>\n",
       "      <th>N2O</th>\n",
       "      <th>CO2</th>\n",
       "      <th>CH4</th>\n",
       "      <th>N2O</th>\n",
       "    </tr>\n",
       "    <tr>\n",
       "      <th>Year</th>\n",
       "      <th></th>\n",
       "      <th></th>\n",
       "      <th></th>\n",
       "      <th></th>\n",
       "      <th></th>\n",
       "      <th></th>\n",
       "      <th></th>\n",
       "      <th></th>\n",
       "      <th></th>\n",
       "      <th></th>\n",
       "      <th></th>\n",
       "      <th></th>\n",
       "      <th></th>\n",
       "      <th></th>\n",
       "      <th></th>\n",
       "      <th></th>\n",
       "      <th></th>\n",
       "      <th></th>\n",
       "    </tr>\n",
       "  </thead>\n",
       "  <tbody>\n",
       "    <tr>\n",
       "      <th>2196.0</th>\n",
       "      <td>0</td>\n",
       "      <td>0.0</td>\n",
       "      <td>0</td>\n",
       "      <td>0</td>\n",
       "      <td>1.0</td>\n",
       "      <td>0</td>\n",
       "      <td>-0.020723</td>\n",
       "      <td>0.0</td>\n",
       "      <td>0.0</td>\n",
       "      <td>0.0</td>\n",
       "      <td>0.0</td>\n",
       "      <td>0.0</td>\n",
       "      <td>4.683492</td>\n",
       "      <td>0.0</td>\n",
       "      <td>0.0</td>\n",
       "      <td>7.0</td>\n",
       "      <td>0.0</td>\n",
       "      <td>0.0</td>\n",
       "    </tr>\n",
       "    <tr>\n",
       "      <th>2197.0</th>\n",
       "      <td>0</td>\n",
       "      <td>0.0</td>\n",
       "      <td>0</td>\n",
       "      <td>0</td>\n",
       "      <td>1.0</td>\n",
       "      <td>0</td>\n",
       "      <td>-0.020447</td>\n",
       "      <td>0.0</td>\n",
       "      <td>0.0</td>\n",
       "      <td>0.0</td>\n",
       "      <td>0.0</td>\n",
       "      <td>0.0</td>\n",
       "      <td>4.663046</td>\n",
       "      <td>0.0</td>\n",
       "      <td>0.0</td>\n",
       "      <td>7.0</td>\n",
       "      <td>0.0</td>\n",
       "      <td>0.0</td>\n",
       "    </tr>\n",
       "    <tr>\n",
       "      <th>2198.0</th>\n",
       "      <td>0</td>\n",
       "      <td>0.0</td>\n",
       "      <td>0</td>\n",
       "      <td>0</td>\n",
       "      <td>1.0</td>\n",
       "      <td>0</td>\n",
       "      <td>-0.020174</td>\n",
       "      <td>0.0</td>\n",
       "      <td>0.0</td>\n",
       "      <td>0.0</td>\n",
       "      <td>0.0</td>\n",
       "      <td>0.0</td>\n",
       "      <td>4.642871</td>\n",
       "      <td>0.0</td>\n",
       "      <td>0.0</td>\n",
       "      <td>7.0</td>\n",
       "      <td>0.0</td>\n",
       "      <td>0.0</td>\n",
       "    </tr>\n",
       "    <tr>\n",
       "      <th>2199.0</th>\n",
       "      <td>0</td>\n",
       "      <td>0.0</td>\n",
       "      <td>0</td>\n",
       "      <td>0</td>\n",
       "      <td>1.0</td>\n",
       "      <td>0</td>\n",
       "      <td>-0.019907</td>\n",
       "      <td>0.0</td>\n",
       "      <td>0.0</td>\n",
       "      <td>0.0</td>\n",
       "      <td>0.0</td>\n",
       "      <td>0.0</td>\n",
       "      <td>4.622964</td>\n",
       "      <td>0.0</td>\n",
       "      <td>0.0</td>\n",
       "      <td>7.0</td>\n",
       "      <td>0.0</td>\n",
       "      <td>0.0</td>\n",
       "    </tr>\n",
       "    <tr>\n",
       "      <th>2200.0</th>\n",
       "      <td>0</td>\n",
       "      <td>0.0</td>\n",
       "      <td>0</td>\n",
       "      <td>0</td>\n",
       "      <td>1.0</td>\n",
       "      <td>0</td>\n",
       "      <td>-0.019644</td>\n",
       "      <td>0.0</td>\n",
       "      <td>0.0</td>\n",
       "      <td>0.0</td>\n",
       "      <td>0.0</td>\n",
       "      <td>0.0</td>\n",
       "      <td>4.603321</td>\n",
       "      <td>0.0</td>\n",
       "      <td>0.0</td>\n",
       "      <td>7.0</td>\n",
       "      <td>0.0</td>\n",
       "      <td>0.0</td>\n",
       "    </tr>\n",
       "  </tbody>\n",
       "</table>\n",
       "</div>"
      ],
      "text/plain": [
       "Scenario Pulse          Step          Pulse - CFE           Pulse - GWP*       \\\n",
       "Gas        CO2  CH4 N2O  CO2  CH4 N2O         CO2  CH4  N2O          CO2  CH4   \n",
       "Year                                                                            \n",
       "2196.0       0  0.0   0    0  1.0   0   -0.020723  0.0  0.0          0.0  0.0   \n",
       "2197.0       0  0.0   0    0  1.0   0   -0.020447  0.0  0.0          0.0  0.0   \n",
       "2198.0       0  0.0   0    0  1.0   0   -0.020174  0.0  0.0          0.0  0.0   \n",
       "2199.0       0  0.0   0    0  1.0   0   -0.019907  0.0  0.0          0.0  0.0   \n",
       "2200.0       0  0.0   0    0  1.0   0   -0.019644  0.0  0.0          0.0  0.0   \n",
       "\n",
       "Scenario      Step - CFE           Step - GWP*            \n",
       "Gas       N2O        CO2  CH4  N2O         CO2  CH4  N2O  \n",
       "Year                                                      \n",
       "2196.0    0.0   4.683492  0.0  0.0         7.0  0.0  0.0  \n",
       "2197.0    0.0   4.663046  0.0  0.0         7.0  0.0  0.0  \n",
       "2198.0    0.0   4.642871  0.0  0.0         7.0  0.0  0.0  \n",
       "2199.0    0.0   4.622964  0.0  0.0         7.0  0.0  0.0  \n",
       "2200.0    0.0   4.603321  0.0  0.0         7.0  0.0  0.0  "
      ]
     },
     "execution_count": 7,
     "metadata": {},
     "output_type": "execute_result"
    }
   ],
   "source": [
    "CO2eGIR.tail()"
   ]
  },
  {
   "cell_type": "markdown",
   "metadata": {},
   "source": [
    "# CH4 Equivalent Testing"
   ]
  },
  {
   "cell_type": "markdown",
   "metadata": {},
   "source": [
    "## Testing the basic Metric Emissions tool\n",
    "\n",
    "This tool takes in a dataframe consisting of a \"Year\" column and an \"LLCP Emissions\" column and computes a collection of CH4 equivalent emissions pertaining to different metrics."
   ]
  },
  {
   "cell_type": "code",
   "execution_count": 11,
   "metadata": {},
   "outputs": [
    {
     "data": {
      "text/html": [
       "<div>\n",
       "<style scoped>\n",
       "    .dataframe tbody tr th:only-of-type {\n",
       "        vertical-align: middle;\n",
       "    }\n",
       "\n",
       "    .dataframe tbody tr th {\n",
       "        vertical-align: top;\n",
       "    }\n",
       "\n",
       "    .dataframe thead th {\n",
       "        text-align: right;\n",
       "    }\n",
       "</style>\n",
       "<table border=\"1\" class=\"dataframe\">\n",
       "  <thead>\n",
       "    <tr style=\"text-align: right;\">\n",
       "      <th></th>\n",
       "      <th>Year</th>\n",
       "      <th>LLCP Emissions</th>\n",
       "    </tr>\n",
       "  </thead>\n",
       "  <tbody>\n",
       "    <tr>\n",
       "      <th>0</th>\n",
       "      <td>1850</td>\n",
       "      <td>0.0</td>\n",
       "    </tr>\n",
       "    <tr>\n",
       "      <th>1</th>\n",
       "      <td>1851</td>\n",
       "      <td>0.0</td>\n",
       "    </tr>\n",
       "    <tr>\n",
       "      <th>2</th>\n",
       "      <td>1852</td>\n",
       "      <td>0.0</td>\n",
       "    </tr>\n",
       "    <tr>\n",
       "      <th>3</th>\n",
       "      <td>1853</td>\n",
       "      <td>0.0</td>\n",
       "    </tr>\n",
       "    <tr>\n",
       "      <th>4</th>\n",
       "      <td>1854</td>\n",
       "      <td>0.0</td>\n",
       "    </tr>\n",
       "  </tbody>\n",
       "</table>\n",
       "</div>"
      ],
      "text/plain": [
       "   Year  LLCP Emissions\n",
       "0  1850             0.0\n",
       "1  1851             0.0\n",
       "2  1852             0.0\n",
       "3  1853             0.0\n",
       "4  1854             0.0"
      ]
     },
     "execution_count": 11,
     "metadata": {},
     "output_type": "execute_result"
    }
   ],
   "source": [
    "# Make step change emissions series with emissions of SLCP (CH4) rising from 0 to 1 at the year 2000\n",
    "\n",
    "TimePeriod = 349  # Years\n",
    "LLCPEmissions = np.ones(TimePeriod).tolist()\n",
    "LLCPEmissions[0:149] = np.zeros(150).tolist()\n",
    "Years = np.arange(1850, 2200).tolist()\n",
    "\n",
    "\n",
    "LLCPTimeSeries = pd.DataFrame(data={'Year': Years, 'LLCP Emissions': LLCPEmissions})\n",
    "\n",
    "LLCPTimeSeries.head()"
   ]
  },
  {
   "cell_type": "code",
   "execution_count": 12,
   "metadata": {},
   "outputs": [
    {
     "name": "stderr",
     "output_type": "stream",
     "text": [
      "/Users/student/anaconda3/lib/python3.7/site-packages/pandas/core/indexing.py:190: SettingWithCopyWarning: \n",
      "A value is trying to be set on a copy of a slice from a DataFrame\n",
      "\n",
      "See the caveats in the documentation: http://pandas.pydata.org/pandas-docs/stable/indexing.html#indexing-view-versus-copy\n",
      "  self._setitem_with_indexer(indexer, value)\n"
     ]
    },
    {
     "data": {
      "text/html": [
       "<div>\n",
       "<style scoped>\n",
       "    .dataframe tbody tr th:only-of-type {\n",
       "        vertical-align: middle;\n",
       "    }\n",
       "\n",
       "    .dataframe tbody tr th {\n",
       "        vertical-align: top;\n",
       "    }\n",
       "\n",
       "    .dataframe thead th {\n",
       "        text-align: right;\n",
       "    }\n",
       "</style>\n",
       "<table border=\"1\" class=\"dataframe\">\n",
       "  <thead>\n",
       "    <tr style=\"text-align: right;\">\n",
       "      <th></th>\n",
       "      <th>Year</th>\n",
       "      <th>LLCP Emissions</th>\n",
       "      <th>CFE</th>\n",
       "      <th>GWP*</th>\n",
       "      <th>CGWP</th>\n",
       "      <th>CGTP</th>\n",
       "      <th>GWP100</th>\n",
       "      <th>GWP20</th>\n",
       "      <th>GTP100</th>\n",
       "      <th>GTP20</th>\n",
       "    </tr>\n",
       "  </thead>\n",
       "  <tbody>\n",
       "    <tr>\n",
       "      <th>345</th>\n",
       "      <td>2195</td>\n",
       "      <td>1.0</td>\n",
       "      <td>0.060205</td>\n",
       "      <td>0.067934</td>\n",
       "      <td>0.045581</td>\n",
       "      <td>0.052973</td>\n",
       "      <td>0.035714</td>\n",
       "      <td>0.011905</td>\n",
       "      <td>0.25</td>\n",
       "      <td>0.014925</td>\n",
       "    </tr>\n",
       "    <tr>\n",
       "      <th>346</th>\n",
       "      <td>2196</td>\n",
       "      <td>1.0</td>\n",
       "      <td>0.060431</td>\n",
       "      <td>0.067934</td>\n",
       "      <td>0.045814</td>\n",
       "      <td>0.053243</td>\n",
       "      <td>0.035714</td>\n",
       "      <td>0.011905</td>\n",
       "      <td>0.25</td>\n",
       "      <td>0.014925</td>\n",
       "    </tr>\n",
       "    <tr>\n",
       "      <th>347</th>\n",
       "      <td>2197</td>\n",
       "      <td>1.0</td>\n",
       "      <td>0.060657</td>\n",
       "      <td>0.067934</td>\n",
       "      <td>0.046047</td>\n",
       "      <td>0.053514</td>\n",
       "      <td>0.035714</td>\n",
       "      <td>0.011905</td>\n",
       "      <td>0.25</td>\n",
       "      <td>0.014925</td>\n",
       "    </tr>\n",
       "    <tr>\n",
       "      <th>348</th>\n",
       "      <td>2198</td>\n",
       "      <td>1.0</td>\n",
       "      <td>0.060883</td>\n",
       "      <td>0.067934</td>\n",
       "      <td>0.046279</td>\n",
       "      <td>0.053784</td>\n",
       "      <td>0.035714</td>\n",
       "      <td>0.011905</td>\n",
       "      <td>0.25</td>\n",
       "      <td>0.014925</td>\n",
       "    </tr>\n",
       "    <tr>\n",
       "      <th>349</th>\n",
       "      <td>2199</td>\n",
       "      <td>1.0</td>\n",
       "      <td>0.061109</td>\n",
       "      <td>0.067934</td>\n",
       "      <td>0.046512</td>\n",
       "      <td>0.054054</td>\n",
       "      <td>0.035714</td>\n",
       "      <td>0.011905</td>\n",
       "      <td>0.25</td>\n",
       "      <td>0.014925</td>\n",
       "    </tr>\n",
       "  </tbody>\n",
       "</table>\n",
       "</div>"
      ],
      "text/plain": [
       "     Year  LLCP Emissions       CFE      GWP*      CGWP      CGTP    GWP100  \\\n",
       "345  2195             1.0  0.060205  0.067934  0.045581  0.052973  0.035714   \n",
       "346  2196             1.0  0.060431  0.067934  0.045814  0.053243  0.035714   \n",
       "347  2197             1.0  0.060657  0.067934  0.046047  0.053514  0.035714   \n",
       "348  2198             1.0  0.060883  0.067934  0.046279  0.053784  0.035714   \n",
       "349  2199             1.0  0.061109  0.067934  0.046512  0.054054  0.035714   \n",
       "\n",
       "        GWP20  GTP100     GTP20  \n",
       "345  0.011905    0.25  0.014925  \n",
       "346  0.011905    0.25  0.014925  \n",
       "347  0.011905    0.25  0.014925  \n",
       "348  0.011905    0.25  0.014925  \n",
       "349  0.011905    0.25  0.014925  "
      ]
     },
     "execution_count": 12,
     "metadata": {},
     "output_type": "execute_result"
    }
   ],
   "source": [
    "# AddMetricEmissions used on the LLCPTimeSeries \n",
    "\n",
    "CO2StepTestEmissionsOutput = CH4efunctions.addMetricEmissions(LLCPTimeSeries)\n",
    "CO2StepTestEmissionsOutput.tail()"
   ]
  },
  {
   "cell_type": "code",
   "execution_count": 13,
   "metadata": {},
   "outputs": [
    {
     "data": {
      "image/png": "[encoded data removed]",
      "text/plain": [
       "<Figure size 432x288 with 1 Axes>"
      ]
     },
     "metadata": {
      "needs_background": "light"
     },
     "output_type": "display_data"
    }
   ],
   "source": [
    "t = CO2StepTestEmissionsOutput['Year']\n",
    "s = CO2StepTestEmissionsOutput['CFE']\n",
    "v = CO2StepTestEmissionsOutput['GWP*']\n",
    "\n",
    "fig, (ax) = plt.subplots()\n",
    "ax.plot(t, s, color = 'black',linewidth = 2,label='CFE')\n",
    "ax.plot(t, v, color = 'orange',linewidth = 2,label='GWP*')\n",
    "ax.tick_params(axis='both',direction='in',length=8,right=True,top=True)\n",
    "plt.legend()\n",
    "ax.axhline(linewidth = 0.5, color='gray')\n",
    "\n",
    "ax.set(xlabel='Year', ylabel='CH4-e Emissions',\n",
    "       title='Methane offsetting sustained emission of CO2')\n",
    "plt.show()"
   ]
  },
  {
   "cell_type": "markdown",
   "metadata": {},
   "source": [
    "## Testing the GIR Input Style metric tool\n",
    "\n",
    "This version takes in a range of scenarios and gases using the same format used in GIR. For each metric \"method\" specified a new \"scenario\" will be added to the returned dataframe for each original \"scenario\" in the GIR input. This allows us to quickly go from a multi-gas set of input emissions to a broad range of equivalents, and model their temperature impacts, without the need for reformatting.\n",
    "\n",
    "Methods can include \"CFE\", \"GWP*\", \"CGWP\", \"CGTP\", \"GWP100\", \"GWP20\", \"GTP100\", \"GTP20\""
   ]
  },
  {
   "cell_type": "code",
   "execution_count": 14,
   "metadata": {},
   "outputs": [],
   "source": [
    "# GIRTestScenarioNames = ['Pulse','Step']\n",
    "\n",
    "start_year = 1850\n",
    "end_year = 2200\n",
    "timestep = 1\n",
    "scen_names=['Pulse','Step']\n",
    "gases_in = ['CO2','CH4','N2O']\n",
    "\n",
    "CO2GIREmissions = pd.DataFrame(index=np.arange(start_year,end_year+1,timestep)+(timestep!=1)*timestep/2,columns=pd.MultiIndex.from_product([scen_names,gases_in],names=['Scenario','Gas'])).fillna(0).apply(pd.to_numeric)\n",
    "CO2GIREmissions.index.rename('Year',inplace=True)\n",
    "\n",
    "TimePeriod = 351  # Years\n",
    "Years = np.arange(1850, 2200).tolist()\n",
    "\n",
    "# Pulse Emissions\n",
    "PulseLLCPEmissions = np.zeros(TimePeriod).tolist()\n",
    "PulseLLCPEmissions[150] = 1\n",
    "\n",
    "# Step Emissions\n",
    "StepLLCPEmissions = np.ones(TimePeriod).tolist()\n",
    "StepLLCPEmissions[0:150] = np.zeros(150).tolist()\n",
    "\n",
    "# Non-Metric Gas Emissions\n",
    "\n",
    "CO2GIREmissions['Pulse','CO2'] = PulseLLCPEmissions\n",
    "CO2GIREmissions['Step','CO2'] = StepLLCPEmissions"
   ]
  },
  {
   "cell_type": "code",
   "execution_count": 15,
   "metadata": {},
   "outputs": [],
   "source": [
    "Methods = [\"CFE\", \"GWP*\"]\n",
    "\n",
    "CH4eGIR = CH4efunctions.addCH4eMetricEmissions(CO2GIREmissions, Methods)"
   ]
  },
  {
   "cell_type": "code",
   "execution_count": 16,
   "metadata": {},
   "outputs": [
    {
     "data": {
      "text/html": [
       "<div>\n",
       "<style scoped>\n",
       "    .dataframe tbody tr th:only-of-type {\n",
       "        vertical-align: middle;\n",
       "    }\n",
       "\n",
       "    .dataframe tbody tr th {\n",
       "        vertical-align: top;\n",
       "    }\n",
       "\n",
       "    .dataframe thead tr th {\n",
       "        text-align: left;\n",
       "    }\n",
       "\n",
       "    .dataframe thead tr:last-of-type th {\n",
       "        text-align: right;\n",
       "    }\n",
       "</style>\n",
       "<table border=\"1\" class=\"dataframe\">\n",
       "  <thead>\n",
       "    <tr>\n",
       "      <th>Scenario</th>\n",
       "      <th colspan=\"3\" halign=\"left\">Pulse</th>\n",
       "      <th colspan=\"3\" halign=\"left\">Step</th>\n",
       "      <th colspan=\"3\" halign=\"left\">Pulse - CFE</th>\n",
       "      <th colspan=\"3\" halign=\"left\">Pulse - GWP*</th>\n",
       "      <th colspan=\"3\" halign=\"left\">Step - CFE</th>\n",
       "      <th colspan=\"3\" halign=\"left\">Step - GWP*</th>\n",
       "    </tr>\n",
       "    <tr>\n",
       "      <th>Gas</th>\n",
       "      <th>CO2</th>\n",
       "      <th>CH4</th>\n",
       "      <th>N2O</th>\n",
       "      <th>CO2</th>\n",
       "      <th>CH4</th>\n",
       "      <th>N2O</th>\n",
       "      <th>CO2</th>\n",
       "      <th>CH4</th>\n",
       "      <th>N2O</th>\n",
       "      <th>CO2</th>\n",
       "      <th>CH4</th>\n",
       "      <th>N2O</th>\n",
       "      <th>CO2</th>\n",
       "      <th>CH4</th>\n",
       "      <th>N2O</th>\n",
       "      <th>CO2</th>\n",
       "      <th>CH4</th>\n",
       "      <th>N2O</th>\n",
       "    </tr>\n",
       "    <tr>\n",
       "      <th>Year</th>\n",
       "      <th></th>\n",
       "      <th></th>\n",
       "      <th></th>\n",
       "      <th></th>\n",
       "      <th></th>\n",
       "      <th></th>\n",
       "      <th></th>\n",
       "      <th></th>\n",
       "      <th></th>\n",
       "      <th></th>\n",
       "      <th></th>\n",
       "      <th></th>\n",
       "      <th></th>\n",
       "      <th></th>\n",
       "      <th></th>\n",
       "      <th></th>\n",
       "      <th></th>\n",
       "      <th></th>\n",
       "    </tr>\n",
       "  </thead>\n",
       "  <tbody>\n",
       "    <tr>\n",
       "      <th>2196.0</th>\n",
       "      <td>0.0</td>\n",
       "      <td>0</td>\n",
       "      <td>0</td>\n",
       "      <td>1.0</td>\n",
       "      <td>0</td>\n",
       "      <td>0</td>\n",
       "      <td>0.0</td>\n",
       "      <td>0.000226</td>\n",
       "      <td>0.0</td>\n",
       "      <td>0.0</td>\n",
       "      <td>0.000000</td>\n",
       "      <td>0.0</td>\n",
       "      <td>0.0</td>\n",
       "      <td>0.060431</td>\n",
       "      <td>0.0</td>\n",
       "      <td>0.0</td>\n",
       "      <td>0.067934</td>\n",
       "      <td>0.0</td>\n",
       "    </tr>\n",
       "    <tr>\n",
       "      <th>2197.0</th>\n",
       "      <td>0.0</td>\n",
       "      <td>0</td>\n",
       "      <td>0</td>\n",
       "      <td>1.0</td>\n",
       "      <td>0</td>\n",
       "      <td>0</td>\n",
       "      <td>0.0</td>\n",
       "      <td>0.000226</td>\n",
       "      <td>0.0</td>\n",
       "      <td>0.0</td>\n",
       "      <td>0.000000</td>\n",
       "      <td>0.0</td>\n",
       "      <td>0.0</td>\n",
       "      <td>0.060657</td>\n",
       "      <td>0.0</td>\n",
       "      <td>0.0</td>\n",
       "      <td>0.067934</td>\n",
       "      <td>0.0</td>\n",
       "    </tr>\n",
       "    <tr>\n",
       "      <th>2198.0</th>\n",
       "      <td>0.0</td>\n",
       "      <td>0</td>\n",
       "      <td>0</td>\n",
       "      <td>1.0</td>\n",
       "      <td>0</td>\n",
       "      <td>0</td>\n",
       "      <td>0.0</td>\n",
       "      <td>0.000226</td>\n",
       "      <td>0.0</td>\n",
       "      <td>0.0</td>\n",
       "      <td>0.000000</td>\n",
       "      <td>0.0</td>\n",
       "      <td>0.0</td>\n",
       "      <td>0.060883</td>\n",
       "      <td>0.0</td>\n",
       "      <td>0.0</td>\n",
       "      <td>0.067934</td>\n",
       "      <td>0.0</td>\n",
       "    </tr>\n",
       "    <tr>\n",
       "      <th>2199.0</th>\n",
       "      <td>0.0</td>\n",
       "      <td>0</td>\n",
       "      <td>0</td>\n",
       "      <td>1.0</td>\n",
       "      <td>0</td>\n",
       "      <td>0</td>\n",
       "      <td>0.0</td>\n",
       "      <td>0.000226</td>\n",
       "      <td>0.0</td>\n",
       "      <td>0.0</td>\n",
       "      <td>0.000000</td>\n",
       "      <td>0.0</td>\n",
       "      <td>0.0</td>\n",
       "      <td>0.061109</td>\n",
       "      <td>0.0</td>\n",
       "      <td>0.0</td>\n",
       "      <td>0.067934</td>\n",
       "      <td>0.0</td>\n",
       "    </tr>\n",
       "    <tr>\n",
       "      <th>2200.0</th>\n",
       "      <td>0.0</td>\n",
       "      <td>0</td>\n",
       "      <td>0</td>\n",
       "      <td>1.0</td>\n",
       "      <td>0</td>\n",
       "      <td>0</td>\n",
       "      <td>0.0</td>\n",
       "      <td>0.000225</td>\n",
       "      <td>0.0</td>\n",
       "      <td>0.0</td>\n",
       "      <td>0.004683</td>\n",
       "      <td>0.0</td>\n",
       "      <td>0.0</td>\n",
       "      <td>0.061334</td>\n",
       "      <td>0.0</td>\n",
       "      <td>0.0</td>\n",
       "      <td>0.072617</td>\n",
       "      <td>0.0</td>\n",
       "    </tr>\n",
       "  </tbody>\n",
       "</table>\n",
       "</div>"
      ],
      "text/plain": [
       "Scenario Pulse         Step         Pulse - CFE                Pulse - GWP*  \\\n",
       "Gas        CO2 CH4 N2O  CO2 CH4 N2O         CO2       CH4  N2O          CO2   \n",
       "Year                                                                          \n",
       "2196.0     0.0   0   0  1.0   0   0         0.0  0.000226  0.0          0.0   \n",
       "2197.0     0.0   0   0  1.0   0   0         0.0  0.000226  0.0          0.0   \n",
       "2198.0     0.0   0   0  1.0   0   0         0.0  0.000226  0.0          0.0   \n",
       "2199.0     0.0   0   0  1.0   0   0         0.0  0.000226  0.0          0.0   \n",
       "2200.0     0.0   0   0  1.0   0   0         0.0  0.000225  0.0          0.0   \n",
       "\n",
       "Scenario                Step - CFE                Step - GWP*                 \n",
       "Gas            CH4  N2O        CO2       CH4  N2O         CO2       CH4  N2O  \n",
       "Year                                                                          \n",
       "2196.0    0.000000  0.0        0.0  0.060431  0.0         0.0  0.067934  0.0  \n",
       "2197.0    0.000000  0.0        0.0  0.060657  0.0         0.0  0.067934  0.0  \n",
       "2198.0    0.000000  0.0        0.0  0.060883  0.0         0.0  0.067934  0.0  \n",
       "2199.0    0.000000  0.0        0.0  0.061109  0.0         0.0  0.067934  0.0  \n",
       "2200.0    0.004683  0.0        0.0  0.061334  0.0         0.0  0.072617  0.0  "
      ]
     },
     "execution_count": 16,
     "metadata": {},
     "output_type": "execute_result"
    }
   ],
   "source": [
    "CH4eGIR.tail()"
   ]
  },
  {
   "cell_type": "markdown",
   "metadata": {},
   "source": [
    "# Function to convert data units to those used in GIR input\n",
    "\n",
    "As with many climate models GIR (and FaIR) takes input emissions series in units of GtC, MtCH4, and MtN2O-N2. This function can be used to quickly convert from MtX to the required unit."
   ]
  },
  {
   "cell_type": "code",
   "execution_count": 7,
   "metadata": {},
   "outputs": [],
   "source": [
    "# Convert to the correct units for GIR input: GtC, MtCH4, MtN2\n",
    "GIRConversionCO2 = 12.0107/44.0095 # Convert MtCO2 -> GtC\n",
    "GIRConversionCH4 = 1\n",
    "GIRConversionN2O = 28.0134/44.013 # Convert MtN2O -> MtN2\n",
    "K = 1000\n",
    "\n",
    "\n",
    "def convertToGIRInputUnits(EmissionsScenarioInput):\n",
    "    scenarios = EmissionsScenarioInput.columns.levels[0].to_list()\n",
    "    gases = EmissionsScenarioInput.columns.levels[1].to_list()\n",
    "    \n",
    "    EmissionsScenarioOutput = EmissionsScenarioInput.copy()\n",
    "    for scenario in scenarios:\n",
    "        for gas in gases:\n",
    "            if gas is 'CO2':\n",
    "                EmissionsScenarioOutput[scenario,gas] = EmissionsScenarioOutput[scenario,gas]*GIRConversionCO2/K\n",
    "            elif gas is 'CH4':\n",
    "                EmissionsScenarioOutput[scenario,gas] = EmissionsScenarioOutput[scenario,gas]*GIRConversionCH4\n",
    "            elif gas is 'N2O':\n",
    "                EmissionsScenarioOutput[scenario,gas] = EmissionsScenarioOutput[scenario,gas]*GIRConversionN2O\n",
    "            else:\n",
    "                print(\"Error: Gas type not recognised when converting to GIR input units\")\n",
    "    \n",
    "    return EmissionsScenarioOutput\n"
   ]
  },
  {
   "cell_type": "markdown",
   "metadata": {},
   "source": [
    "# Testing the matrix method"
   ]
  },
  {
   "cell_type": "markdown",
   "metadata": {},
   "source": [
    "## Making the AGFP matrix"
   ]
  },
  {
   "cell_type": "code",
   "execution_count": 138,
   "metadata": {},
   "outputs": [],
   "source": [
    "\n"
   ]
  },
  {
   "cell_type": "code",
   "execution_count": 24,
   "metadata": {},
   "outputs": [
    {
     "data": {
      "text/html": [
       "<div>\n",
       "<style scoped>\n",
       "    .dataframe tbody tr th:only-of-type {\n",
       "        vertical-align: middle;\n",
       "    }\n",
       "\n",
       "    .dataframe tbody tr th {\n",
       "        vertical-align: top;\n",
       "    }\n",
       "\n",
       "    .dataframe thead th {\n",
       "        text-align: right;\n",
       "    }\n",
       "</style>\n",
       "<table border=\"1\" class=\"dataframe\">\n",
       "  <thead>\n",
       "    <tr style=\"text-align: right;\">\n",
       "      <th></th>\n",
       "      <th>Year</th>\n",
       "      <th>SLCP Emissions</th>\n",
       "    </tr>\n",
       "  </thead>\n",
       "  <tbody>\n",
       "    <tr>\n",
       "      <th>0</th>\n",
       "      <td>1850</td>\n",
       "      <td>0.0</td>\n",
       "    </tr>\n",
       "    <tr>\n",
       "      <th>1</th>\n",
       "      <td>1851</td>\n",
       "      <td>0.0</td>\n",
       "    </tr>\n",
       "    <tr>\n",
       "      <th>2</th>\n",
       "      <td>1852</td>\n",
       "      <td>0.0</td>\n",
       "    </tr>\n",
       "    <tr>\n",
       "      <th>3</th>\n",
       "      <td>1853</td>\n",
       "      <td>0.0</td>\n",
       "    </tr>\n",
       "    <tr>\n",
       "      <th>4</th>\n",
       "      <td>1854</td>\n",
       "      <td>0.0</td>\n",
       "    </tr>\n",
       "  </tbody>\n",
       "</table>\n",
       "</div>"
      ],
      "text/plain": [
       "   Year  SLCP Emissions\n",
       "0  1850             0.0\n",
       "1  1851             0.0\n",
       "2  1852             0.0\n",
       "3  1853             0.0\n",
       "4  1854             0.0"
      ]
     },
     "execution_count": 24,
     "metadata": {},
     "output_type": "execute_result"
    }
   ],
   "source": [
    "\n",
    "\n",
    "# Make emissions series to test on this 250 years long. step at year 2000\n",
    "\n",
    "TimePeriod = 249  # Years\n",
    "SLCPEmissions = np.ones(TimePeriod).tolist()\n",
    "SLCPEmissions[0:149] = np.zeros(150).tolist()\n",
    "Years = np.arange(1850, 2100).tolist()\n",
    "\n",
    "TestTimeSeries = pd.DataFrame(data={'Year': Years, 'SLCP Emissions': SLCPEmissions})\n",
    "\n",
    "TestTimeSeries.head()"
   ]
  },
  {
   "cell_type": "code",
   "execution_count": 188,
   "metadata": {},
   "outputs": [
    {
     "data": {
      "text/plain": [
       "array([[ 1.00000000e+00,  0.00000000e+00,  0.00000000e+00, ...,\n",
       "         0.00000000e+00,  0.00000000e+00,  0.00000000e+00],\n",
       "       [-1.20039465e-02,  1.00000000e+00,  0.00000000e+00, ...,\n",
       "         0.00000000e+00,  0.00000000e+00,  0.00000000e+00],\n",
       "       [-1.88705417e-02, -1.20039465e-02,  1.00000000e+00, ...,\n",
       "         0.00000000e+00,  0.00000000e+00,  0.00000000e+00],\n",
       "       ...,\n",
       "       [-5.78152088e-05, -5.82749770e-05, -5.87419201e-05, ...,\n",
       "         1.00000000e+00,  0.00000000e+00,  0.00000000e+00],\n",
       "       [-5.73624966e-05, -5.78152088e-05, -5.82749770e-05, ...,\n",
       "        -1.20039465e-02,  1.00000000e+00,  0.00000000e+00],\n",
       "       [-5.69167233e-05, -5.73624966e-05, -5.78152088e-05, ...,\n",
       "        -1.88705417e-02, -1.20039465e-02,  1.00000000e+00]])"
      ]
     },
     "execution_count": 188,
     "metadata": {},
     "output_type": "execute_result"
    }
   ],
   "source": [
    "import numpy as np\n",
    "import pandas as pd\n",
    "\n",
    "CO2FEVMFs = pd.read_csv('CO2eMetricEmissions/CO2FEVectorMetric/CO2FEVectorMetricFactors.csv')[['CO2fe']]\n",
    "\n",
    "# Make the lower-diagonal tirpitz matrix for conversion between gases.\n",
    "\n",
    "CO2FEVMFsLength = len(CO2FEVMFs.index)\n",
    "FullAGFP_CH4 = np.zeros((CO2FEVMFsLength, CO2FEVMFsLength))\n",
    "\n",
    "for i in np.arange(CO2FEVMFsLength):\n",
    "    for j in np.arange(i+1):\n",
    "        FullAGFP_CH4[i][j] = CO2FEVMFs.loc[i-j]\n",
    "FullAGFP_CH4"
   ]
  },
  {
   "cell_type": "code",
   "execution_count": 22,
   "metadata": {},
   "outputs": [
    {
     "data": {
      "text/plain": [
       "array([[ 1.00000000e+00,  0.00000000e+00,  0.00000000e+00, ...,\n",
       "         0.00000000e+00,  0.00000000e+00,  0.00000000e+00],\n",
       "       [-1.20039465e-02,  1.00000000e+00,  0.00000000e+00, ...,\n",
       "         0.00000000e+00,  0.00000000e+00,  0.00000000e+00],\n",
       "       [-1.88705417e-02, -1.20039465e-02,  1.00000000e+00, ...,\n",
       "         0.00000000e+00,  0.00000000e+00,  0.00000000e+00],\n",
       "       ...,\n",
       "       [-2.68504202e-05, -2.68962313e-05, -2.69423263e-05, ...,\n",
       "         1.00000000e+00,  0.00000000e+00,  0.00000000e+00],\n",
       "       [-2.68048887e-05, -2.68504202e-05, -2.68962313e-05, ...,\n",
       "        -1.20039465e-02,  1.00000000e+00,  0.00000000e+00],\n",
       "       [-2.67596328e-05, -2.68048887e-05, -2.68504202e-05, ...,\n",
       "        -1.88705417e-02, -1.20039465e-02,  1.00000000e+00]])"
      ]
     },
     "execution_count": 22,
     "metadata": {},
     "output_type": "execute_result"
    }
   ],
   "source": [
    "RecoveredMatrix = pd.read_csv('CO2eMetricEmissions/CO2FEVectorMetric/CO2FEVectorMetricMatrix.csv', header=None).to_numpy()\n",
    "RecoveredMatrix"
   ]
  },
  {
   "cell_type": "code",
   "execution_count": 14,
   "metadata": {},
   "outputs": [
    {
     "data": {
      "text/plain": [
       "62500"
      ]
     },
     "execution_count": 14,
     "metadata": {},
     "output_type": "execute_result"
    }
   ],
   "source": [
    "# resize AGFP multiplication matrix to mate with timeseries\n",
    "\n",
    "# AGFP_CH4 = FullAGFP_CH4.copy()\n",
    "AGFP_CH4 = RecoveredMatrix.copy()\n",
    "\n",
    "pos1 = len(TestTimeSeries.index)\n",
    "pos2 = AGFP_CH4.shape[0]\n",
    "\n",
    "AGFP_CH4 = np.delete(AGFP_CH4, np.arange(pos1,pos2),0)\n",
    "AGFP_CH4 = np.delete(AGFP_CH4, np.arange(pos1,pos2),1)\n",
    "\n",
    "AGFP_CH4.size"
   ]
  },
  {
   "cell_type": "code",
   "execution_count": 18,
   "metadata": {},
   "outputs": [
    {
     "data": {
      "text/plain": [
       "array([[-1.20039465e-02,  1.00000000e+00,  0.00000000e+00, ...,\n",
       "         0.00000000e+00,  0.00000000e+00,  0.00000000e+00],\n",
       "       [-1.88705417e-02, -1.20039465e-02,  1.00000000e+00, ...,\n",
       "         0.00000000e+00,  0.00000000e+00,  0.00000000e+00],\n",
       "       [-2.40389509e-02, -1.88705417e-02, -1.20039465e-02, ...,\n",
       "         0.00000000e+00,  0.00000000e+00,  0.00000000e+00],\n",
       "       ...,\n",
       "       [-9.15218891e-05, -9.25220453e-05, -9.35385107e-05, ...,\n",
       "        -1.20039465e-02,  1.00000000e+00,  0.00000000e+00],\n",
       "       [-9.05377708e-05, -9.15218891e-05, -9.25220453e-05, ...,\n",
       "        -1.88705417e-02, -1.20039465e-02,  0.00000000e+00],\n",
       "       [-8.95694233e-05, -9.05377708e-05, -9.15218891e-05, ...,\n",
       "        -2.40389509e-02, -1.88705417e-02,  0.00000000e+00]])"
      ]
     },
     "execution_count": 18,
     "metadata": {},
     "output_type": "execute_result"
    }
   ],
   "source": [
    "AGFP_CH4"
   ]
  },
  {
   "cell_type": "code",
   "execution_count": 87,
   "metadata": {},
   "outputs": [],
   "source": [
    "GWP_STAR_MATRIX_CH4 = 112 * np.identity(250)\n",
    "# GWP_STAR_MATRIX_CH4.size\n",
    "\n",
    "for i in np.arange(21,250):\n",
    "#     for i \n",
    "    GWP_STAR_MATRIX_CH4[i][i-20] = -105"
   ]
  },
  {
   "cell_type": "code",
   "execution_count": 88,
   "metadata": {},
   "outputs": [
    {
     "data": {
      "text/plain": [
       "0.0"
      ]
     },
     "execution_count": 88,
     "metadata": {},
     "output_type": "execute_result"
    }
   ],
   "source": [
    "GWP_STAR_MATRIX_CH4[0][20]"
   ]
  },
  {
   "cell_type": "code",
   "execution_count": 89,
   "metadata": {},
   "outputs": [
    {
     "data": {
      "text/plain": [
       "62500"
      ]
     },
     "execution_count": 89,
     "metadata": {},
     "output_type": "execute_result"
    }
   ],
   "source": [
    "GWP_STAR_MATRIX_CH4.size"
   ]
  },
  {
   "cell_type": "code",
   "execution_count": 90,
   "metadata": {},
   "outputs": [
    {
     "data": {
      "text/plain": [
       "250"
      ]
     },
     "execution_count": 90,
     "metadata": {},
     "output_type": "execute_result"
    }
   ],
   "source": [
    "len(np.dot(GWP_STAR_MATRIX_CH4,TestTimeSeries['SLCP Emissions']))"
   ]
  },
  {
   "cell_type": "code",
   "execution_count": 91,
   "metadata": {},
   "outputs": [
    {
     "data": {
      "text/plain": [
       "array([  0.,   0.,   0.,   0.,   0.,   0.,   0.,   0.,   0.,   0.,   0.,\n",
       "         0.,   0.,   0.,   0.,   0.,   0.,   0.,   0.,   0.,   0.,   0.,\n",
       "         0.,   0.,   0.,   0.,   0.,   0.,   0.,   0.,   0.,   0.,   0.,\n",
       "         0.,   0.,   0.,   0.,   0.,   0.,   0.,   0.,   0.,   0.,   0.,\n",
       "         0.,   0.,   0.,   0.,   0.,   0.,   0.,   0.,   0.,   0.,   0.,\n",
       "         0.,   0.,   0.,   0.,   0.,   0.,   0.,   0.,   0.,   0.,   0.,\n",
       "         0.,   0.,   0.,   0.,   0.,   0.,   0.,   0.,   0.,   0.,   0.,\n",
       "         0.,   0.,   0.,   0.,   0.,   0.,   0.,   0.,   0.,   0.,   0.,\n",
       "         0.,   0.,   0.,   0.,   0.,   0.,   0.,   0.,   0.,   0.,   0.,\n",
       "         0.,   0.,   0.,   0.,   0.,   0.,   0.,   0.,   0.,   0.,   0.,\n",
       "         0.,   0.,   0.,   0.,   0.,   0.,   0.,   0.,   0.,   0.,   0.,\n",
       "         0.,   0.,   0.,   0.,   0.,   0.,   0.,   0.,   0.,   0.,   0.,\n",
       "         0.,   0.,   0.,   0.,   0.,   0.,   0.,   0.,   0.,   0.,   0.,\n",
       "         0.,   0.,   0.,   0.,   0.,   0.,   0., 112., 112., 112., 112.,\n",
       "       112., 112., 112., 112., 112., 112., 112., 112., 112., 112., 112.,\n",
       "       112., 112., 112., 112., 112.,   7.,   7.,   7.,   7.,   7.,   7.,\n",
       "         7.,   7.,   7.,   7.,   7.,   7.,   7.,   7.,   7.,   7.,   7.,\n",
       "         7.,   7.,   7.,   7.,   7.,   7.,   7.,   7.,   7.,   7.,   7.,\n",
       "         7.,   7.,   7.,   7.,   7.,   7.,   7.,   7.,   7.,   7.,   7.,\n",
       "         7.,   7.,   7.,   7.,   7.,   7.,   7.,   7.,   7.,   7.,   7.,\n",
       "         7.,   7.,   7.,   7.,   7.,   7.,   7.,   7.,   7.,   7.,   7.,\n",
       "         7.,   7.,   7.,   7.,   7.,   7.,   7.,   7.,   7.,   7.,   7.,\n",
       "         7.,   7.,   7.,   7.,   7.,   7.,   7.,   7.])"
      ]
     },
     "execution_count": 91,
     "metadata": {},
     "output_type": "execute_result"
    }
   ],
   "source": [
    "np.dot(GWP_STAR_MATRIX_CH4,TestTimeSeries['SLCP Emissions'])"
   ]
  },
  {
   "cell_type": "code",
   "execution_count": 80,
   "metadata": {},
   "outputs": [],
   "source": [
    "MatrixScale = 8\n",
    "Value = 4300\n",
    "CGWP_MATRIX_CH4 = Value * np.identity(MatrixScale)\n",
    "for i in np.arange(1, MatrixScale):\n",
    "    CGWP_MATRIX_CH4[i][i-1] = -Value"
   ]
  },
  {
   "cell_type": "code",
   "execution_count": 81,
   "metadata": {},
   "outputs": [
    {
     "data": {
      "text/plain": [
       "array([[ 4300.,     0.,     0.,     0.,     0.,     0.,     0.,     0.],\n",
       "       [-4300.,  4300.,     0.,     0.,     0.,     0.,     0.,     0.],\n",
       "       [    0., -4300.,  4300.,     0.,     0.,     0.,     0.,     0.],\n",
       "       [    0.,     0., -4300.,  4300.,     0.,     0.,     0.,     0.],\n",
       "       [    0.,     0.,     0., -4300.,  4300.,     0.,     0.,     0.],\n",
       "       [    0.,     0.,     0.,     0., -4300.,  4300.,     0.,     0.],\n",
       "       [    0.,     0.,     0.,     0.,     0., -4300.,  4300.,     0.],\n",
       "       [    0.,     0.,     0.,     0.,     0.,     0., -4300.,  4300.]])"
      ]
     },
     "execution_count": 81,
     "metadata": {},
     "output_type": "execute_result"
    }
   ],
   "source": [
    "CGWP_MATRIX_CH4"
   ]
  },
  {
   "cell_type": "code",
   "execution_count": 105,
   "metadata": {},
   "outputs": [],
   "source": [
    "PosValue = 112\n",
    "NegValue = 105\n",
    "GWP_STAR_MATRIX_CH4 = PosValue * np.identity(9)\n",
    "for i in np.arange(5, 9):\n",
    "    GWP_STAR_MATRIX_CH4[i][i-5] = - NegValue"
   ]
  },
  {
   "cell_type": "code",
   "execution_count": 106,
   "metadata": {},
   "outputs": [
    {
     "data": {
      "text/plain": [
       "array([[ 112.,    0.,    0.,    0.,    0.,    0.,    0.,    0.,    0.],\n",
       "       [   0.,  112.,    0.,    0.,    0.,    0.,    0.,    0.,    0.],\n",
       "       [   0.,    0.,  112.,    0.,    0.,    0.,    0.,    0.,    0.],\n",
       "       [   0.,    0.,    0.,  112.,    0.,    0.,    0.,    0.,    0.],\n",
       "       [   0.,    0.,    0.,    0.,  112.,    0.,    0.,    0.,    0.],\n",
       "       [-105.,    0.,    0.,    0.,    0.,  112.,    0.,    0.,    0.],\n",
       "       [   0., -105.,    0.,    0.,    0.,    0.,  112.,    0.,    0.],\n",
       "       [   0.,    0., -105.,    0.,    0.,    0.,    0.,  112.,    0.],\n",
       "       [   0.,    0.,    0., -105.,    0.,    0.,    0.,    0.,  112.]])"
      ]
     },
     "execution_count": 106,
     "metadata": {},
     "output_type": "execute_result"
    }
   ],
   "source": [
    "GWP_STAR_MATRIX_CH4"
   ]
  },
  {
   "cell_type": "code",
   "execution_count": null,
   "metadata": {},
   "outputs": [],
   "source": []
  }
 ],
 "metadata": {
  "kernelspec": {
   "display_name": "Python 3",
   "language": "python",
   "name": "python3"
  },
  "language_info": {
   "codemirror_mode": {
    "name": "ipython",
    "version": 3
   },
   "file_extension": ".py",
   "mimetype": "text/x-python",
   "name": "python",
   "nbconvert_exporter": "python",
   "pygments_lexer": "ipython3",
   "version": "3.7.3"
  },
  "toc": {
   "base_numbering": 1,
   "nav_menu": {},
   "number_sections": true,
   "sideBar": true,
   "skip_h1_title": false,
   "title_cell": "Table of Contents",
   "title_sidebar": "Contents",
   "toc_cell": false,
   "toc_position": {
    "height": "calc(100% - 180px)",
    "left": "10px",
    "top": "150px",
    "width": "384px"
   },
   "toc_section_display": true,
   "toc_window_display": true
  }
 },
 "nbformat": 4,
 "nbformat_minor": 2
}
